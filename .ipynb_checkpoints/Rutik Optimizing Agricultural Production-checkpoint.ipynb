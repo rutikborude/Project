{
 "cells": [
  {
   "cell_type": "markdown",
   "id": "1f8b4472",
   "metadata": {},
   "source": [
    "# Optimizing Agricultural Production"
   ]
  },
  {
   "cell_type": "markdown",
   "id": "088d4b49",
   "metadata": {},
   "source": [
    "Importing the Libraries "
   ]
  },
  {
   "cell_type": "code",
   "execution_count": 7,
   "id": "5bceb253",
   "metadata": {},
   "outputs": [],
   "source": [
    "import numpy as np\n",
    "import pandas as pd\n",
    "import matplotlib.pyplot as plt\n",
    "import seaborn as sns\n",
    "from ipywidgets import interact"
   ]
  },
  {
   "cell_type": "markdown",
   "id": "272d1262",
   "metadata": {},
   "source": [
    "Reading the Dataset"
   ]
  },
  {
   "cell_type": "code",
   "execution_count": 9,
   "id": "5ae835a7",
   "metadata": {},
   "outputs": [],
   "source": [
    "df =pd.read_csv(\"C:/Users/pc/Desktop/Crop_recommendation.csv\")"
   ]
  },
  {
   "cell_type": "code",
   "execution_count": 15,
   "id": "2148d37e",
   "metadata": {},
   "outputs": [
    {
     "data": {
      "text/html": [
       "<div>\n",
       "<style scoped>\n",
       "    .dataframe tbody tr th:only-of-type {\n",
       "        vertical-align: middle;\n",
       "    }\n",
       "\n",
       "    .dataframe tbody tr th {\n",
       "        vertical-align: top;\n",
       "    }\n",
       "\n",
       "    .dataframe thead th {\n",
       "        text-align: right;\n",
       "    }\n",
       "</style>\n",
       "<table border=\"1\" class=\"dataframe\">\n",
       "  <thead>\n",
       "    <tr style=\"text-align: right;\">\n",
       "      <th></th>\n",
       "      <th>N</th>\n",
       "      <th>P</th>\n",
       "      <th>K</th>\n",
       "      <th>temperature</th>\n",
       "      <th>humidity</th>\n",
       "      <th>ph</th>\n",
       "      <th>rainfall</th>\n",
       "      <th>label</th>\n",
       "    </tr>\n",
       "  </thead>\n",
       "  <tbody>\n",
       "    <tr>\n",
       "      <th>0</th>\n",
       "      <td>90</td>\n",
       "      <td>42</td>\n",
       "      <td>43</td>\n",
       "      <td>20.879744</td>\n",
       "      <td>82.002744</td>\n",
       "      <td>6.502985</td>\n",
       "      <td>202.935536</td>\n",
       "      <td>rice</td>\n",
       "    </tr>\n",
       "    <tr>\n",
       "      <th>1</th>\n",
       "      <td>85</td>\n",
       "      <td>58</td>\n",
       "      <td>41</td>\n",
       "      <td>21.770462</td>\n",
       "      <td>80.319644</td>\n",
       "      <td>7.038096</td>\n",
       "      <td>226.655537</td>\n",
       "      <td>rice</td>\n",
       "    </tr>\n",
       "    <tr>\n",
       "      <th>2</th>\n",
       "      <td>60</td>\n",
       "      <td>55</td>\n",
       "      <td>44</td>\n",
       "      <td>23.004459</td>\n",
       "      <td>82.320763</td>\n",
       "      <td>7.840207</td>\n",
       "      <td>263.964248</td>\n",
       "      <td>rice</td>\n",
       "    </tr>\n",
       "    <tr>\n",
       "      <th>3</th>\n",
       "      <td>74</td>\n",
       "      <td>35</td>\n",
       "      <td>40</td>\n",
       "      <td>26.491096</td>\n",
       "      <td>80.158363</td>\n",
       "      <td>6.980401</td>\n",
       "      <td>242.864034</td>\n",
       "      <td>rice</td>\n",
       "    </tr>\n",
       "  </tbody>\n",
       "</table>\n",
       "</div>"
      ],
      "text/plain": [
       "    N   P   K  temperature   humidity        ph    rainfall label\n",
       "0  90  42  43    20.879744  82.002744  6.502985  202.935536  rice\n",
       "1  85  58  41    21.770462  80.319644  7.038096  226.655537  rice\n",
       "2  60  55  44    23.004459  82.320763  7.840207  263.964248  rice\n",
       "3  74  35  40    26.491096  80.158363  6.980401  242.864034  rice"
      ]
     },
     "execution_count": 15,
     "metadata": {},
     "output_type": "execute_result"
    }
   ],
   "source": [
    "df.head(4)"
   ]
  },
  {
   "cell_type": "markdown",
   "id": "d79c729d",
   "metadata": {},
   "source": [
    "lets check teh shape of the dataset"
   ]
  },
  {
   "cell_type": "code",
   "execution_count": 16,
   "id": "e2e6d3d7",
   "metadata": {},
   "outputs": [
    {
     "data": {
      "text/plain": [
       "(2200, 8)"
      ]
     },
     "execution_count": 16,
     "metadata": {},
     "output_type": "execute_result"
    }
   ],
   "source": [
    "df.shape"
   ]
  },
  {
   "cell_type": "markdown",
   "id": "5ec868af",
   "metadata": {},
   "source": [
    "check the null values of dataset"
   ]
  },
  {
   "cell_type": "code",
   "execution_count": 18,
   "id": "8d888249",
   "metadata": {},
   "outputs": [
    {
     "data": {
      "text/plain": [
       "N              0\n",
       "P              0\n",
       "K              0\n",
       "temperature    0\n",
       "humidity       0\n",
       "ph             0\n",
       "rainfall       0\n",
       "label          0\n",
       "dtype: int64"
      ]
     },
     "execution_count": 18,
     "metadata": {},
     "output_type": "execute_result"
    }
   ],
   "source": [
    "df.isnull().sum()"
   ]
  },
  {
   "cell_type": "markdown",
   "id": "2d51aec0",
   "metadata": {},
   "source": [
    "checking crops present in dataset"
   ]
  },
  {
   "cell_type": "code",
   "execution_count": 19,
   "id": "706a49f2",
   "metadata": {},
   "outputs": [
    {
     "data": {
      "text/plain": [
       "rice           100\n",
       "maize          100\n",
       "jute           100\n",
       "cotton         100\n",
       "coconut        100\n",
       "papaya         100\n",
       "orange         100\n",
       "apple          100\n",
       "muskmelon      100\n",
       "watermelon     100\n",
       "grapes         100\n",
       "mango          100\n",
       "banana         100\n",
       "pomegranate    100\n",
       "lentil         100\n",
       "blackgram      100\n",
       "mungbean       100\n",
       "mothbeans      100\n",
       "pigeonpeas     100\n",
       "kidneybeans    100\n",
       "chickpea       100\n",
       "coffee         100\n",
       "Name: label, dtype: int64"
      ]
     },
     "execution_count": 19,
     "metadata": {},
     "output_type": "execute_result"
    }
   ],
   "source": [
    "df['label'].value_counts()"
   ]
  },
  {
   "cell_type": "code",
   "execution_count": 20,
   "id": "dafee94a",
   "metadata": {},
   "outputs": [
    {
     "data": {
      "text/html": [
       "<div>\n",
       "<style scoped>\n",
       "    .dataframe tbody tr th:only-of-type {\n",
       "        vertical-align: middle;\n",
       "    }\n",
       "\n",
       "    .dataframe tbody tr th {\n",
       "        vertical-align: top;\n",
       "    }\n",
       "\n",
       "    .dataframe thead th {\n",
       "        text-align: right;\n",
       "    }\n",
       "</style>\n",
       "<table border=\"1\" class=\"dataframe\">\n",
       "  <thead>\n",
       "    <tr style=\"text-align: right;\">\n",
       "      <th></th>\n",
       "      <th>N</th>\n",
       "      <th>P</th>\n",
       "      <th>K</th>\n",
       "      <th>temperature</th>\n",
       "      <th>humidity</th>\n",
       "      <th>ph</th>\n",
       "      <th>rainfall</th>\n",
       "    </tr>\n",
       "  </thead>\n",
       "  <tbody>\n",
       "    <tr>\n",
       "      <th>count</th>\n",
       "      <td>2200.000000</td>\n",
       "      <td>2200.000000</td>\n",
       "      <td>2200.000000</td>\n",
       "      <td>2200.000000</td>\n",
       "      <td>2200.000000</td>\n",
       "      <td>2200.000000</td>\n",
       "      <td>2200.000000</td>\n",
       "    </tr>\n",
       "    <tr>\n",
       "      <th>mean</th>\n",
       "      <td>50.551818</td>\n",
       "      <td>53.362727</td>\n",
       "      <td>48.149091</td>\n",
       "      <td>25.616244</td>\n",
       "      <td>71.481779</td>\n",
       "      <td>6.469480</td>\n",
       "      <td>103.463655</td>\n",
       "    </tr>\n",
       "    <tr>\n",
       "      <th>std</th>\n",
       "      <td>36.917334</td>\n",
       "      <td>32.985883</td>\n",
       "      <td>50.647931</td>\n",
       "      <td>5.063749</td>\n",
       "      <td>22.263812</td>\n",
       "      <td>0.773938</td>\n",
       "      <td>54.958389</td>\n",
       "    </tr>\n",
       "    <tr>\n",
       "      <th>min</th>\n",
       "      <td>0.000000</td>\n",
       "      <td>5.000000</td>\n",
       "      <td>5.000000</td>\n",
       "      <td>8.825675</td>\n",
       "      <td>14.258040</td>\n",
       "      <td>3.504752</td>\n",
       "      <td>20.211267</td>\n",
       "    </tr>\n",
       "    <tr>\n",
       "      <th>25%</th>\n",
       "      <td>21.000000</td>\n",
       "      <td>28.000000</td>\n",
       "      <td>20.000000</td>\n",
       "      <td>22.769375</td>\n",
       "      <td>60.261953</td>\n",
       "      <td>5.971693</td>\n",
       "      <td>64.551686</td>\n",
       "    </tr>\n",
       "    <tr>\n",
       "      <th>50%</th>\n",
       "      <td>37.000000</td>\n",
       "      <td>51.000000</td>\n",
       "      <td>32.000000</td>\n",
       "      <td>25.598693</td>\n",
       "      <td>80.473146</td>\n",
       "      <td>6.425045</td>\n",
       "      <td>94.867624</td>\n",
       "    </tr>\n",
       "    <tr>\n",
       "      <th>75%</th>\n",
       "      <td>84.250000</td>\n",
       "      <td>68.000000</td>\n",
       "      <td>49.000000</td>\n",
       "      <td>28.561654</td>\n",
       "      <td>89.948771</td>\n",
       "      <td>6.923643</td>\n",
       "      <td>124.267508</td>\n",
       "    </tr>\n",
       "    <tr>\n",
       "      <th>max</th>\n",
       "      <td>140.000000</td>\n",
       "      <td>145.000000</td>\n",
       "      <td>205.000000</td>\n",
       "      <td>43.675493</td>\n",
       "      <td>99.981876</td>\n",
       "      <td>9.935091</td>\n",
       "      <td>298.560117</td>\n",
       "    </tr>\n",
       "  </tbody>\n",
       "</table>\n",
       "</div>"
      ],
      "text/plain": [
       "                 N            P            K  temperature     humidity  \\\n",
       "count  2200.000000  2200.000000  2200.000000  2200.000000  2200.000000   \n",
       "mean     50.551818    53.362727    48.149091    25.616244    71.481779   \n",
       "std      36.917334    32.985883    50.647931     5.063749    22.263812   \n",
       "min       0.000000     5.000000     5.000000     8.825675    14.258040   \n",
       "25%      21.000000    28.000000    20.000000    22.769375    60.261953   \n",
       "50%      37.000000    51.000000    32.000000    25.598693    80.473146   \n",
       "75%      84.250000    68.000000    49.000000    28.561654    89.948771   \n",
       "max     140.000000   145.000000   205.000000    43.675493    99.981876   \n",
       "\n",
       "                ph     rainfall  \n",
       "count  2200.000000  2200.000000  \n",
       "mean      6.469480   103.463655  \n",
       "std       0.773938    54.958389  \n",
       "min       3.504752    20.211267  \n",
       "25%       5.971693    64.551686  \n",
       "50%       6.425045    94.867624  \n",
       "75%       6.923643   124.267508  \n",
       "max       9.935091   298.560117  "
      ]
     },
     "execution_count": 20,
     "metadata": {},
     "output_type": "execute_result"
    }
   ],
   "source": [
    "df.describe()"
   ]
  },
  {
   "cell_type": "markdown",
   "id": "43c18cfc",
   "metadata": {},
   "source": [
    "checking info:"
   ]
  },
  {
   "cell_type": "code",
   "execution_count": 21,
   "id": "c6fee661",
   "metadata": {},
   "outputs": [
    {
     "name": "stdout",
     "output_type": "stream",
     "text": [
      "<class 'pandas.core.frame.DataFrame'>\n",
      "RangeIndex: 2200 entries, 0 to 2199\n",
      "Data columns (total 8 columns):\n",
      " #   Column       Non-Null Count  Dtype  \n",
      "---  ------       --------------  -----  \n",
      " 0   N            2200 non-null   int64  \n",
      " 1   P            2200 non-null   int64  \n",
      " 2   K            2200 non-null   int64  \n",
      " 3   temperature  2200 non-null   float64\n",
      " 4   humidity     2200 non-null   float64\n",
      " 5   ph           2200 non-null   float64\n",
      " 6   rainfall     2200 non-null   float64\n",
      " 7   label        2200 non-null   object \n",
      "dtypes: float64(4), int64(3), object(1)\n",
      "memory usage: 137.6+ KB\n"
     ]
    }
   ],
   "source": [
    "df.info()"
   ]
  },
  {
   "cell_type": "markdown",
   "id": "1e7a6020",
   "metadata": {},
   "source": [
    " Summary Statistics for each of the Crops"
   ]
  },
  {
   "cell_type": "code",
   "execution_count": 22,
   "id": "7fc12633",
   "metadata": {},
   "outputs": [
    {
     "data": {
      "application/vnd.jupyter.widget-view+json": {
       "model_id": "61f169e12dc04cab893a1c9e9d9e8b6f",
       "version_major": 2,
       "version_minor": 0
      },
      "text/plain": [
       "interactive(children=(Dropdown(description='crops', options=('rice', 'maize', 'jute', 'cotton', 'coconut', 'pa…"
      ]
     },
     "metadata": {},
     "output_type": "display_data"
    }
   ],
   "source": [
    "@interact\n",
    "def summary(crops = list(df['label'].value_counts().index)):\n",
    "    x = df[df['label']== crops]\n",
    "    z = df.drop(['label'],axis=1)\n",
    "    y = []\n",
    "    y.append(z)\n",
    "    for i in z:\n",
    "        print('Minimum', i, 'required', x[i].min())\n",
    "        print('Average', i, 'required', x[i].mean())\n",
    "        print('Maximum', i, 'required', x[i].max())\n",
    "        print('--------------------------------------------------')"
   ]
  },
  {
   "cell_type": "markdown",
   "id": "9f91904d",
   "metadata": {},
   "source": [
    "The skewness of a DataFrame"
   ]
  },
  {
   "cell_type": "code",
   "execution_count": 23,
   "id": "7b6e7fa8",
   "metadata": {
    "scrolled": true
   },
   "outputs": [
    {
     "name": "stderr",
     "output_type": "stream",
     "text": [
      "C:\\Users\\pc\\AppData\\Local\\Temp\\ipykernel_10480\\1665899112.py:1: FutureWarning: Dropping of nuisance columns in DataFrame reductions (with 'numeric_only=None') is deprecated; in a future version this will raise TypeError.  Select only valid columns before calling the reduction.\n",
      "  df.skew()\n"
     ]
    },
    {
     "data": {
      "text/plain": [
       "N              0.509721\n",
       "P              1.010773\n",
       "K              2.375167\n",
       "temperature    0.184933\n",
       "humidity      -1.091708\n",
       "ph             0.283929\n",
       "rainfall       0.965756\n",
       "dtype: float64"
      ]
     },
     "execution_count": 23,
     "metadata": {},
     "output_type": "execute_result"
    }
   ],
   "source": [
    "df.skew()"
   ]
  },
  {
   "cell_type": "markdown",
   "id": "2eef1ba6",
   "metadata": {},
   "source": [
    "Plotting histogram of all columns"
   ]
  },
  {
   "cell_type": "code",
   "execution_count": 24,
   "id": "102b1b45",
   "metadata": {},
   "outputs": [
    {
     "data": {
      "text/plain": [
       "array([[<AxesSubplot:title={'center':'N'}>,\n",
       "        <AxesSubplot:title={'center':'P'}>,\n",
       "        <AxesSubplot:title={'center':'K'}>,\n",
       "        <AxesSubplot:title={'center':'temperature'}>],\n",
       "       [<AxesSubplot:title={'center':'humidity'}>,\n",
       "        <AxesSubplot:title={'center':'ph'}>,\n",
       "        <AxesSubplot:title={'center':'rainfall'}>, <AxesSubplot:>],\n",
       "       [<AxesSubplot:>, <AxesSubplot:>, <AxesSubplot:>, <AxesSubplot:>],\n",
       "       [<AxesSubplot:>, <AxesSubplot:>, <AxesSubplot:>, <AxesSubplot:>]],\n",
       "      dtype=object)"
      ]
     },
     "execution_count": 24,
     "metadata": {},
     "output_type": "execute_result"
    },
    {
     "data": {
      "image/png": "[encoded data removed]",
      "text/plain": [
       "<Figure size 1080x1080 with 16 Axes>"
      ]
     },
     "metadata": {
      "needs_background": "light"
     },
     "output_type": "display_data"
    }
   ],
   "source": [
    "df.hist(figsize=(15,15), layout=(4,4), bins=20)"
   ]
  },
  {
   "cell_type": "markdown",
   "id": "ea0e0240",
   "metadata": {},
   "source": [
    "check which crops are grow in following conditions"
   ]
  },
  {
   "cell_type": "code",
   "execution_count": 25,
   "id": "cd54022a",
   "metadata": {},
   "outputs": [
    {
     "name": "stdout",
     "output_type": "stream",
     "text": [
      "crops which requires very high ratio of Nitrogen content in soil: ['cotton']\n",
      "crops which requires very high ratio of Phosphorous content in soil: ['grapes' 'apple']\n",
      "crops which requires very high ratio of Potassium content in soil: ['grapes' 'apple']\n",
      "crops which requires very high rainfall: ['rice' 'papaya' 'coconut']\n",
      "crops which requires very low temperature: ['grapes']\n",
      "crops which requires very high temperature: ['grapes' 'papaya']\n",
      "crops which requires very low humidity: ['chickpea' 'kidneybeans']\n",
      "crops which requires very low ph: ['mothbeans']\n",
      "crops which requires very high ph: ['mothbeans']\n"
     ]
    }
   ],
   "source": [
    "print('crops which requires very high ratio of Nitrogen content in soil:', df[df['N']>120]['label'].unique())\n",
    "print('crops which requires very high ratio of Phosphorous content in soil:', df[df['P']>100]['label'].unique())\n",
    "print('crops which requires very high ratio of Potassium content in soil:', df[df['K']>200]['label'].unique())\n",
    "print('crops which requires very high rainfall:', df[df['rainfall']>200]['label'].unique())\n",
    "print('crops which requires very low temperature:', df[df['temperature']<10]['label'].unique())\n",
    "print('crops which requires very high temperature:', df[df['temperature']>40]['label'].unique())\n",
    "print('crops which requires very low humidity:', df[df['humidity']<20]['label'].unique())\n",
    "print('crops which requires very low ph:', df[df['ph']<4]['label'].unique())\n",
    "print('crops which requires very high ph:', df[df['ph']>9]['label'].unique())"
   ]
  },
  {
   "cell_type": "markdown",
   "id": "f895dece",
   "metadata": {},
   "source": [
    "check which crops are Grown in Summer,Winter and Rainy Season"
   ]
  },
  {
   "cell_type": "code",
   "execution_count": 26,
   "id": "6f68ba20",
   "metadata": {},
   "outputs": [
    {
     "name": "stdout",
     "output_type": "stream",
     "text": [
      "Summer Crops: ['pigeonpeas' 'mothbeans' 'blackgram' 'mango' 'grapes' 'orange' 'papaya']\n",
      "Winter Crops: ['maize' 'pigeonpeas' 'lentil' 'pomegranate' 'grapes' 'orange']\n",
      "Rainy Crops: ['rice' 'papaya' 'coconut']\n"
     ]
    }
   ],
   "source": [
    "print('Summer Crops:', df[(df['temperature']>30) & (df['humidity']>50)]['label'].unique())\n",
    "print('Winter Crops:', df[(df['temperature']<20) & (df['humidity']>30)]['label'].unique())\n",
    "print('Rainy Crops:', df[(df['rainfall']>200) & (df['humidity']>30)]['label'].unique())"
   ]
  },
  {
   "cell_type": "markdown",
   "id": "ad092360",
   "metadata": {},
   "source": [
    "we import warnings library to avoid warnings"
   ]
  },
  {
   "cell_type": "code",
   "execution_count": 27,
   "id": "daa783ec",
   "metadata": {},
   "outputs": [],
   "source": [
    "import warnings\n",
    "warnings.filterwarnings('ignore')"
   ]
  },
  {
   "cell_type": "code",
   "execution_count": null,
   "id": "3c236d7a",
   "metadata": {},
   "outputs": [],
   "source": [
    "z = df.drop(['label'],axis=1)\n",
    "z = df.loc[:,z.columns].values\n",
    "x_df = pd.DataFrame(z)\n",
    "x_df.head()"
   ]
  },
  {
   "cell_type": "markdown",
   "id": "e8da9afb",
   "metadata": {},
   "source": [
    "Determine Optimum number of cluster by elbow method"
   ]
  },
  {
   "cell_type": "code",
   "execution_count": 29,
   "id": "493e710c",
   "metadata": {},
   "outputs": [
    {
     "data": {
      "image/png": "[encoded data removed]",
      "text/plain": [
       "<Figure size 720x288 with 1 Axes>"
      ]
     },
     "metadata": {
      "needs_background": "light"
     },
     "output_type": "display_data"
    }
   ],
   "source": [
    "from sklearn.cluster import KMeans\n",
    "plt.rcParams['figure.figsize'] = (10,4)\n",
    "wcss = []\n",
    "for i in range (1,11):\n",
    "    km = KMeans(n_clusters =i, init= 'k-means++', max_iter=300, n_init=10, random_state=0)\n",
    "    km.fit(z)\n",
    "    wcss.append(km.inertia_)\n",
    "    \n",
    "plt.plot(range(1,11), wcss)\n",
    "plt.title('Elbow Method', fontsize= 15)\n",
    "plt.xlabel('No. of cluster')\n",
    "plt.ylabel('wcss')\n",
    "plt.show()   "
   ]
  },
  {
   "cell_type": "markdown",
   "id": "0cfa7a91",
   "metadata": {},
   "source": [
    "we get two elbows at 3 and 4 and by rule we take 4"
   ]
  },
  {
   "cell_type": "code",
   "execution_count": 31,
   "id": "297ba1d0",
   "metadata": {},
   "outputs": [],
   "source": [
    "km = KMeans(n_clusters =4, init= 'k-means++', max_iter=300, n_init=10, random_state=0)\n",
    "y_means= km.fit_predict(z)\n",
    "a = df['label']\n",
    "y_means = pd.DataFrame(y_means)\n",
    "w = pd.concat([y_means, a], axis=1)\n",
    "w =w.rename(columns= {0:'cluster'})"
   ]
  },
  {
   "cell_type": "code",
   "execution_count": 32,
   "id": "50465f17",
   "metadata": {},
   "outputs": [
    {
     "name": "stdout",
     "output_type": "stream",
     "text": [
      "Crops is cluster 0 ['maize' 'chickpea' 'kidneybeans' 'pigeonpeas' 'mothbeans' 'mungbean'\n",
      " 'blackgram' 'lentil' 'pomegranate' 'mango' 'orange' 'papaya' 'coconut']\n",
      "---------------------------------------------------------------------------------------\n",
      "Crops is cluster 1 ['maize' 'banana' 'watermelon' 'muskmelon' 'papaya' 'cotton' 'coffee']\n",
      "---------------------------------------------------------------------------------------\n",
      "Crops is cluster 2 ['grapes' 'apple']\n",
      "---------------------------------------------------------------------------------------\n",
      "Crops is cluster 3 ['rice' 'pigeonpeas' 'papaya' 'coconut' 'jute' 'coffee']\n",
      "---------------------------------------------------------------------------------------\n"
     ]
    }
   ],
   "source": [
    "#Check Cluster of each group\n",
    "for i in range(0,4): #for 4 clusters 0,1,2,3\n",
    "    print('Crops is cluster', i, w[w['cluster']==i]['label'].unique())\n",
    "    print('---------------------------------------------------------------------------------------')"
   ]
  },
  {
   "cell_type": "markdown",
   "id": "e8a7368b",
   "metadata": {},
   "source": [
    "some of the crops are more than in one cluster. This is known as soft clustering\n",
    "\n",
    "We want our crops to be in single cluster so next step we are going to do hard clustering\n",
    "\n",
    "In hard clustering we can able to see each data points are completely in one cluster or not"
   ]
  },
  {
   "cell_type": "code",
   "execution_count": 33,
   "id": "c95fb57f",
   "metadata": {},
   "outputs": [
    {
     "name": "stdout",
     "output_type": "stream",
     "text": [
      "Crops in Cluster 0 : ['chickpea', 'kidneybeans', 'mothbeans', 'mungbean', 'blackgram', 'lentil', 'pomegranate', 'mango', 'orange']\n",
      "--------------------------------------------------------------------------------\n",
      "Crops in Cluster 1 : ['maize', 'banana', 'watermelon', 'muskmelon', 'cotton']\n",
      "--------------------------------------------------------------------------------\n",
      "Crops in Cluster 2 : ['grapes', 'apple']\n",
      "--------------------------------------------------------------------------------\n",
      "Crops in Cluster 3 : ['rice', 'pigeonpeas', 'papaya', 'coconut', 'jute', 'coffee']\n",
      "--------------------------------------------------------------------------------\n"
     ]
    }
   ],
   "source": [
    "for i in range(0,4):\n",
    "    counts=w[w['cluster']==i]['label'].value_counts()\n",
    "    d = w.loc[w['label'].isin(counts.index[counts>=50])]\n",
    "    d=d['label'].value_counts()\n",
    "    print('Crops in Cluster', i,':', list(d.index))\n",
    "    print('--------------------------------------------------------------------------------')"
   ]
  },
  {
   "cell_type": "markdown",
   "id": "71b65dd8",
   "metadata": {},
   "source": [
    "The distribution of Agricultural Conditions using barplot"
   ]
  },
  {
   "cell_type": "code",
   "execution_count": 34,
   "id": "8e345f6f",
   "metadata": {},
   "outputs": [
    {
     "data": {
      "text/plain": [
       "Text(0.5, 0, 'rainfall')"
      ]
     },
     "execution_count": 34,
     "metadata": {},
     "output_type": "execute_result"
    },
    {
     "data": {
      "image/png": "[encoded data removed]",
      "text/plain": [
       "<Figure size 1440x2016 with 7 Axes>"
      ]
     },
     "metadata": {
      "needs_background": "light"
     },
     "output_type": "display_data"
    }
   ],
   "source": [
    "plt.figure(figsize=(20, 28))\n",
    "\n",
    "plt.subplot(4,2,1)\n",
    "sns.barplot(df['N'], df['label'])\n",
    "plt.ylabel(' ')\n",
    "plt.xlabel('Nitrogen')\n",
    "\n",
    "plt.subplot(4,2,2)\n",
    "sns.barplot(df['P'], df['label'])\n",
    "plt.ylabel(' ')\n",
    "plt.xlabel('Phophorus')\n",
    "\n",
    "plt.subplot(4,2,3)\n",
    "sns.barplot(df['K'], df['label'])\n",
    "plt.ylabel(' ')\n",
    "plt.xlabel('Potassium')\n",
    "\n",
    "plt.subplot(4,2,4)\n",
    "sns.barplot(df['temperature'], df['label'])\n",
    "plt.ylabel(' ')\n",
    "plt.xlabel('Temperature')\n",
    "\n",
    "plt.subplot(4,2,5)\n",
    "sns.barplot(df['humidity'], df['label'])\n",
    "plt.ylabel(' ')\n",
    "plt.xlabel('Humidity')\n",
    "\n",
    "plt.subplot(4,2,6)\n",
    "sns.barplot(df['ph'], df['label'])\n",
    "plt.ylabel(' ')\n",
    "plt.xlabel('pH')\n",
    "\n",
    "plt.subplot(4,2,7)\n",
    "sns.barplot(df['rainfall'], df['label'])\n",
    "plt.ylabel(' ')\n",
    "plt.xlabel('rainfall')"
   ]
  },
  {
   "cell_type": "markdown",
   "id": "ac1d0a66",
   "metadata": {},
   "source": [
    "Observation\n",
    "\n",
    "Cotton requires high amount of Nitrogen among all Grapes and Apple requires very high amount of phosphorus and Potassium least amount of potassium is the favorable condition of Orange to grow Papaya requires more than 30 degree to grow well whereas others required <= 30 degree chickpea and kidneybeans humidity requires very less humidity to grow All crops require more than pH value of 5 to grow Rice requires very heavy rainfall (more than 200mm) where the muskmelon requires the least"
   ]
  },
  {
   "cell_type": "markdown",
   "id": "ab05c106",
   "metadata": {},
   "source": [
    "Spliting the dataset"
   ]
  },
  {
   "cell_type": "code",
   "execution_count": 35,
   "id": "e97adf67",
   "metadata": {},
   "outputs": [
    {
     "data": {
      "text/html": [
       "<div>\n",
       "<style scoped>\n",
       "    .dataframe tbody tr th:only-of-type {\n",
       "        vertical-align: middle;\n",
       "    }\n",
       "\n",
       "    .dataframe tbody tr th {\n",
       "        vertical-align: top;\n",
       "    }\n",
       "\n",
       "    .dataframe thead th {\n",
       "        text-align: right;\n",
       "    }\n",
       "</style>\n",
       "<table border=\"1\" class=\"dataframe\">\n",
       "  <thead>\n",
       "    <tr style=\"text-align: right;\">\n",
       "      <th></th>\n",
       "      <th>N</th>\n",
       "      <th>P</th>\n",
       "      <th>K</th>\n",
       "      <th>temperature</th>\n",
       "      <th>humidity</th>\n",
       "      <th>ph</th>\n",
       "      <th>rainfall</th>\n",
       "    </tr>\n",
       "  </thead>\n",
       "  <tbody>\n",
       "    <tr>\n",
       "      <th>0</th>\n",
       "      <td>90</td>\n",
       "      <td>42</td>\n",
       "      <td>43</td>\n",
       "      <td>20.879744</td>\n",
       "      <td>82.002744</td>\n",
       "      <td>6.502985</td>\n",
       "      <td>202.935536</td>\n",
       "    </tr>\n",
       "    <tr>\n",
       "      <th>1</th>\n",
       "      <td>85</td>\n",
       "      <td>58</td>\n",
       "      <td>41</td>\n",
       "      <td>21.770462</td>\n",
       "      <td>80.319644</td>\n",
       "      <td>7.038096</td>\n",
       "      <td>226.655537</td>\n",
       "    </tr>\n",
       "    <tr>\n",
       "      <th>2</th>\n",
       "      <td>60</td>\n",
       "      <td>55</td>\n",
       "      <td>44</td>\n",
       "      <td>23.004459</td>\n",
       "      <td>82.320763</td>\n",
       "      <td>7.840207</td>\n",
       "      <td>263.964248</td>\n",
       "    </tr>\n",
       "    <tr>\n",
       "      <th>3</th>\n",
       "      <td>74</td>\n",
       "      <td>35</td>\n",
       "      <td>40</td>\n",
       "      <td>26.491096</td>\n",
       "      <td>80.158363</td>\n",
       "      <td>6.980401</td>\n",
       "      <td>242.864034</td>\n",
       "    </tr>\n",
       "    <tr>\n",
       "      <th>4</th>\n",
       "      <td>78</td>\n",
       "      <td>42</td>\n",
       "      <td>42</td>\n",
       "      <td>20.130175</td>\n",
       "      <td>81.604873</td>\n",
       "      <td>7.628473</td>\n",
       "      <td>262.717340</td>\n",
       "    </tr>\n",
       "  </tbody>\n",
       "</table>\n",
       "</div>"
      ],
      "text/plain": [
       "    N   P   K  temperature   humidity        ph    rainfall\n",
       "0  90  42  43    20.879744  82.002744  6.502985  202.935536\n",
       "1  85  58  41    21.770462  80.319644  7.038096  226.655537\n",
       "2  60  55  44    23.004459  82.320763  7.840207  263.964248\n",
       "3  74  35  40    26.491096  80.158363  6.980401  242.864034\n",
       "4  78  42  42    20.130175  81.604873  7.628473  262.717340"
      ]
     },
     "execution_count": 35,
     "metadata": {},
     "output_type": "execute_result"
    }
   ],
   "source": [
    "x = df.drop(['label'], axis=1)\n",
    "x.head()"
   ]
  },
  {
   "cell_type": "code",
   "execution_count": 36,
   "id": "492f8ff7",
   "metadata": {},
   "outputs": [
    {
     "data": {
      "text/plain": [
       "0    rice\n",
       "1    rice\n",
       "2    rice\n",
       "3    rice\n",
       "4    rice\n",
       "Name: label, dtype: object"
      ]
     },
     "execution_count": 36,
     "metadata": {},
     "output_type": "execute_result"
    }
   ],
   "source": [
    "y = df['label']\n",
    "y.head()"
   ]
  },
  {
   "cell_type": "markdown",
   "id": "d3c68eae",
   "metadata": {},
   "source": [
    "Checking shape of X and y"
   ]
  },
  {
   "cell_type": "code",
   "execution_count": 37,
   "id": "62bb879f",
   "metadata": {},
   "outputs": [
    {
     "name": "stdout",
     "output_type": "stream",
     "text": [
      "shape of x: (2200, 7)\n",
      "shape of y: (2200,)\n"
     ]
    }
   ],
   "source": [
    "print('shape of x:', x.shape)\n",
    "print('shape of y:', y.shape)"
   ]
  },
  {
   "cell_type": "code",
   "execution_count": 38,
   "id": "756d849f",
   "metadata": {},
   "outputs": [
    {
     "data": {
      "text/plain": [
       "rice           100\n",
       "maize          100\n",
       "jute           100\n",
       "cotton         100\n",
       "coconut        100\n",
       "papaya         100\n",
       "orange         100\n",
       "apple          100\n",
       "muskmelon      100\n",
       "watermelon     100\n",
       "grapes         100\n",
       "mango          100\n",
       "banana         100\n",
       "pomegranate    100\n",
       "lentil         100\n",
       "blackgram      100\n",
       "mungbean       100\n",
       "mothbeans      100\n",
       "pigeonpeas     100\n",
       "kidneybeans    100\n",
       "chickpea       100\n",
       "coffee         100\n",
       "Name: label, dtype: int64"
      ]
     },
     "execution_count": 38,
     "metadata": {},
     "output_type": "execute_result"
    }
   ],
   "source": [
    "y.value_counts()"
   ]
  },
  {
   "cell_type": "markdown",
   "id": "78143e80",
   "metadata": {},
   "source": [
    "we create Training and Testing sets"
   ]
  },
  {
   "cell_type": "code",
   "execution_count": 39,
   "id": "9f75732a",
   "metadata": {},
   "outputs": [],
   "source": [
    "from sklearn.model_selection import train_test_split\n",
    "x_train, x_test, y_train, y_test = train_test_split(x,y, test_size=0.2, random_state=0)"
   ]
  },
  {
   "cell_type": "code",
   "execution_count": 40,
   "id": "1067a267",
   "metadata": {},
   "outputs": [],
   "source": [
    "from sklearn.metrics import accuracy_score,confusion_matrix"
   ]
  },
  {
   "cell_type": "code",
   "execution_count": 41,
   "id": "d08ed910",
   "metadata": {},
   "outputs": [
    {
     "name": "stdout",
     "output_type": "stream",
     "text": [
      "Accuracy Score of KNN: 0.9772727272727273\n",
      "Accuracy Score of SVC: 0.9772727272727273\n",
      "Accuracy Score of decision tree: 0.9931818181818182\n",
      "Accuracy Score of Random Forest: 0.9977272727272727\n"
     ]
    }
   ],
   "source": [
    "from sklearn.neighbors import KNeighborsClassifier\n",
    "clf_knn = KNeighborsClassifier(n_neighbors=3)\n",
    "clf_knn.fit(x_train,y_train)\n",
    "y_pred1 = clf_knn.predict(x_test)\n",
    "print(\"Accuracy Score of KNN:\",accuracy_score(y_test,y_pred1))\n",
    "\n",
    "from sklearn.svm import SVC\n",
    "clf_svc = SVC()\n",
    "clf_svc.fit(x_train,y_train)\n",
    "y_pred2 = clf_svc.predict(x_test)\n",
    "print(\"Accuracy Score of SVC:\",accuracy_score(y_test,y_pred2))\n",
    "\n",
    "from sklearn.tree import DecisionTreeClassifier\n",
    "clf_dtc = DecisionTreeClassifier(criterion='entropy',random_state=7)\n",
    "clf_dtc.fit(x_train,y_train)\n",
    "y_pred3 = clf_dtc.predict(x_test)\n",
    "print(\"Accuracy Score of decision tree:\",accuracy_score(y_test,y_pred3))\n",
    "\n",
    "from sklearn.ensemble import RandomForestClassifier\n",
    "clf_rfc = RandomForestClassifier(random_state=1)\n",
    "clf_rfc.fit(x_train, y_train)\n",
    "y_pred4 = clf_rfc.predict(x_test)\n",
    "print(\"Accuracy Score of Random Forest:\",accuracy_score(y_test,y_pred4))"
   ]
  },
  {
   "cell_type": "code",
   "execution_count": 42,
   "id": "a9d42478",
   "metadata": {},
   "outputs": [
    {
     "name": "stdout",
     "output_type": "stream",
     "text": [
      "Accuracy Score of Random Forest: 1.0\n"
     ]
    }
   ],
   "source": [
    "y_train_pred = clf_rfc.predict(x_train)\n",
    "print(\"Accuracy Score of Random Forest:\",accuracy_score(y_train,y_train_pred))"
   ]
  },
  {
   "cell_type": "code",
   "execution_count": 43,
   "id": "b1223127",
   "metadata": {},
   "outputs": [
    {
     "data": {
      "text/html": [
       "<div>\n",
       "<style scoped>\n",
       "    .dataframe tbody tr th:only-of-type {\n",
       "        vertical-align: middle;\n",
       "    }\n",
       "\n",
       "    .dataframe tbody tr th {\n",
       "        vertical-align: top;\n",
       "    }\n",
       "\n",
       "    .dataframe thead th {\n",
       "        text-align: right;\n",
       "    }\n",
       "</style>\n",
       "<table border=\"1\" class=\"dataframe\">\n",
       "  <thead>\n",
       "    <tr style=\"text-align: right;\">\n",
       "      <th></th>\n",
       "      <th>Real_class</th>\n",
       "      <th>Predicted_class</th>\n",
       "    </tr>\n",
       "  </thead>\n",
       "  <tbody>\n",
       "    <tr>\n",
       "      <th>1320</th>\n",
       "      <td>watermelon</td>\n",
       "      <td>watermelon</td>\n",
       "    </tr>\n",
       "    <tr>\n",
       "      <th>1367</th>\n",
       "      <td>watermelon</td>\n",
       "      <td>watermelon</td>\n",
       "    </tr>\n",
       "    <tr>\n",
       "      <th>1291</th>\n",
       "      <td>grapes</td>\n",
       "      <td>grapes</td>\n",
       "    </tr>\n",
       "    <tr>\n",
       "      <th>264</th>\n",
       "      <td>chickpea</td>\n",
       "      <td>chickpea</td>\n",
       "    </tr>\n",
       "    <tr>\n",
       "      <th>728</th>\n",
       "      <td>blackgram</td>\n",
       "      <td>blackgram</td>\n",
       "    </tr>\n",
       "  </tbody>\n",
       "</table>\n",
       "</div>"
      ],
      "text/plain": [
       "      Real_class Predicted_class\n",
       "1320  watermelon      watermelon\n",
       "1367  watermelon      watermelon\n",
       "1291      grapes          grapes\n",
       "264     chickpea        chickpea\n",
       "728    blackgram       blackgram"
      ]
     },
     "execution_count": 43,
     "metadata": {},
     "output_type": "execute_result"
    }
   ],
   "source": [
    "output = pd.DataFrame({'Real_class': y_test, 'Predicted_class': y_pred4})\n",
    "output.head()"
   ]
  },
  {
   "cell_type": "code",
   "execution_count": 48,
   "id": "5032e0fb",
   "metadata": {},
   "outputs": [],
   "source": [
    "from sklearn.metrics import classification_report, confusion_matrix"
   ]
  },
  {
   "cell_type": "markdown",
   "id": "5baf1439",
   "metadata": {},
   "source": [
    "Confusion Matrix"
   ]
  },
  {
   "cell_type": "code",
   "execution_count": 83,
   "id": "0d092f37",
   "metadata": {},
   "outputs": [
    {
     "data": {
      "image/png": "[encoded data removed]",
      "text/plain": [
       "<Figure size 720x720 with 2 Axes>"
      ]
     },
     "metadata": {
      "needs_background": "light"
     },
     "output_type": "display_data"
    }
   ],
   "source": [
    "plt.rcParams['figure.figsize'] = (10, 10)\n",
    "cm = confusion_matrix(y_test, y_pred4)\n",
    "sns.heatmap(cm, annot = True, cmap = 'Wistia')\n",
    "plt.title('Confusion Matrix for KNN', fontsize = 15)\n",
    "plt.show()"
   ]
  },
  {
   "cell_type": "markdown",
   "id": "68d09c0b",
   "metadata": {},
   "source": [
    "Classification Report"
   ]
  },
  {
   "cell_type": "code",
   "execution_count": 84,
   "id": "c5d74166",
   "metadata": {},
   "outputs": [],
   "source": [
    "cr = classification_report(y_test, y_pred4)"
   ]
  },
  {
   "cell_type": "code",
   "execution_count": 53,
   "id": "f1aeaac2",
   "metadata": {},
   "outputs": [
    {
     "name": "stdout",
     "output_type": "stream",
     "text": [
      "              precision    recall  f1-score   support\n",
      "\n",
      "       apple       1.00      1.00      1.00        18\n",
      "      banana       1.00      1.00      1.00        18\n",
      "   blackgram       0.92      1.00      0.96        22\n",
      "    chickpea       1.00      1.00      1.00        23\n",
      "     coconut       1.00      1.00      1.00        15\n",
      "      coffee       1.00      1.00      1.00        17\n",
      "      cotton       1.00      0.94      0.97        16\n",
      "      grapes       1.00      1.00      1.00        18\n",
      "        jute       0.83      0.90      0.86        21\n",
      " kidneybeans       0.95      1.00      0.98        20\n",
      "      lentil       1.00      1.00      1.00        17\n",
      "       maize       0.95      1.00      0.97        18\n",
      "       mango       1.00      1.00      1.00        21\n",
      "   mothbeans       1.00      0.92      0.96        25\n",
      "    mungbean       1.00      1.00      1.00        17\n",
      "   muskmelon       1.00      1.00      1.00        23\n",
      "      orange       1.00      1.00      1.00        23\n",
      "      papaya       1.00      1.00      1.00        21\n",
      "  pigeonpeas       1.00      0.95      0.98        22\n",
      " pomegranate       1.00      1.00      1.00        23\n",
      "        rice       0.91      0.84      0.87        25\n",
      "  watermelon       1.00      1.00      1.00        17\n",
      "\n",
      "    accuracy                           0.98       440\n",
      "   macro avg       0.98      0.98      0.98       440\n",
      "weighted avg       0.98      0.98      0.98       440\n",
      "\n"
     ]
    }
   ],
   "source": [
    "print(cr)"
   ]
  },
  {
   "cell_type": "code",
   "execution_count": 54,
   "id": "606179ec",
   "metadata": {},
   "outputs": [
    {
     "data": {
      "text/html": [
       "<div>\n",
       "<style scoped>\n",
       "    .dataframe tbody tr th:only-of-type {\n",
       "        vertical-align: middle;\n",
       "    }\n",
       "\n",
       "    .dataframe tbody tr th {\n",
       "        vertical-align: top;\n",
       "    }\n",
       "\n",
       "    .dataframe thead th {\n",
       "        text-align: right;\n",
       "    }\n",
       "</style>\n",
       "<table border=\"1\" class=\"dataframe\">\n",
       "  <thead>\n",
       "    <tr style=\"text-align: right;\">\n",
       "      <th></th>\n",
       "      <th>N</th>\n",
       "      <th>P</th>\n",
       "      <th>K</th>\n",
       "      <th>temperature</th>\n",
       "      <th>humidity</th>\n",
       "      <th>ph</th>\n",
       "      <th>rainfall</th>\n",
       "      <th>label</th>\n",
       "    </tr>\n",
       "  </thead>\n",
       "  <tbody>\n",
       "    <tr>\n",
       "      <th>0</th>\n",
       "      <td>90</td>\n",
       "      <td>42</td>\n",
       "      <td>43</td>\n",
       "      <td>20.879744</td>\n",
       "      <td>82.002744</td>\n",
       "      <td>6.502985</td>\n",
       "      <td>202.935536</td>\n",
       "      <td>rice</td>\n",
       "    </tr>\n",
       "    <tr>\n",
       "      <th>1</th>\n",
       "      <td>85</td>\n",
       "      <td>58</td>\n",
       "      <td>41</td>\n",
       "      <td>21.770462</td>\n",
       "      <td>80.319644</td>\n",
       "      <td>7.038096</td>\n",
       "      <td>226.655537</td>\n",
       "      <td>rice</td>\n",
       "    </tr>\n",
       "    <tr>\n",
       "      <th>2</th>\n",
       "      <td>60</td>\n",
       "      <td>55</td>\n",
       "      <td>44</td>\n",
       "      <td>23.004459</td>\n",
       "      <td>82.320763</td>\n",
       "      <td>7.840207</td>\n",
       "      <td>263.964248</td>\n",
       "      <td>rice</td>\n",
       "    </tr>\n",
       "    <tr>\n",
       "      <th>3</th>\n",
       "      <td>74</td>\n",
       "      <td>35</td>\n",
       "      <td>40</td>\n",
       "      <td>26.491096</td>\n",
       "      <td>80.158363</td>\n",
       "      <td>6.980401</td>\n",
       "      <td>242.864034</td>\n",
       "      <td>rice</td>\n",
       "    </tr>\n",
       "  </tbody>\n",
       "</table>\n",
       "</div>"
      ],
      "text/plain": [
       "    N   P   K  temperature   humidity        ph    rainfall label\n",
       "0  90  42  43    20.879744  82.002744  6.502985  202.935536  rice\n",
       "1  85  58  41    21.770462  80.319644  7.038096  226.655537  rice\n",
       "2  60  55  44    23.004459  82.320763  7.840207  263.964248  rice\n",
       "3  74  35  40    26.491096  80.158363  6.980401  242.864034  rice"
      ]
     },
     "execution_count": 54,
     "metadata": {},
     "output_type": "execute_result"
    }
   ],
   "source": [
    "df.head(4)"
   ]
  },
  {
   "cell_type": "markdown",
   "id": "56e55291",
   "metadata": {},
   "source": [
    "Real Time Predictions"
   ]
  },
  {
   "cell_type": "code",
   "execution_count": 56,
   "id": "ecd75b53",
   "metadata": {},
   "outputs": [],
   "source": [
    "prediction =clf_dtc.predict((np.array([[90,\n",
    "                                       40,\n",
    "                                       40,\n",
    "                                       20,\n",
    "                                       80,\n",
    "                                       7,\n",
    "                                       200]])))"
   ]
  },
  {
   "cell_type": "code",
   "execution_count": 57,
   "id": "e7ff1cce",
   "metadata": {},
   "outputs": [
    {
     "name": "stdout",
     "output_type": "stream",
     "text": [
      "The Suggested Crop for Given Climatic Condition is : ['rice']\n"
     ]
    }
   ],
   "source": [
    "print(\"The Suggested Crop for Given Climatic Condition is :\", prediction)"
   ]
  },
  {
   "cell_type": "code",
   "execution_count": 58,
   "id": "1db0ddd5",
   "metadata": {
    "scrolled": true
   },
   "outputs": [
    {
     "data": {
      "text/html": [
       "<div>\n",
       "<style scoped>\n",
       "    .dataframe tbody tr th:only-of-type {\n",
       "        vertical-align: middle;\n",
       "    }\n",
       "\n",
       "    .dataframe tbody tr th {\n",
       "        vertical-align: top;\n",
       "    }\n",
       "\n",
       "    .dataframe thead th {\n",
       "        text-align: right;\n",
       "    }\n",
       "</style>\n",
       "<table border=\"1\" class=\"dataframe\">\n",
       "  <thead>\n",
       "    <tr style=\"text-align: right;\">\n",
       "      <th></th>\n",
       "      <th>N</th>\n",
       "      <th>P</th>\n",
       "      <th>K</th>\n",
       "      <th>temperature</th>\n",
       "      <th>humidity</th>\n",
       "      <th>ph</th>\n",
       "      <th>rainfall</th>\n",
       "      <th>label</th>\n",
       "    </tr>\n",
       "  </thead>\n",
       "  <tbody>\n",
       "    <tr>\n",
       "      <th>1600</th>\n",
       "      <td>22</td>\n",
       "      <td>30</td>\n",
       "      <td>12</td>\n",
       "      <td>15.781442</td>\n",
       "      <td>92.510777</td>\n",
       "      <td>6.354007</td>\n",
       "      <td>119.035002</td>\n",
       "      <td>orange</td>\n",
       "    </tr>\n",
       "    <tr>\n",
       "      <th>1601</th>\n",
       "      <td>37</td>\n",
       "      <td>6</td>\n",
       "      <td>13</td>\n",
       "      <td>26.030973</td>\n",
       "      <td>91.508193</td>\n",
       "      <td>7.511755</td>\n",
       "      <td>101.284774</td>\n",
       "      <td>orange</td>\n",
       "    </tr>\n",
       "    <tr>\n",
       "      <th>1602</th>\n",
       "      <td>27</td>\n",
       "      <td>13</td>\n",
       "      <td>6</td>\n",
       "      <td>13.360506</td>\n",
       "      <td>91.356082</td>\n",
       "      <td>7.335158</td>\n",
       "      <td>111.226688</td>\n",
       "      <td>orange</td>\n",
       "    </tr>\n",
       "    <tr>\n",
       "      <th>1603</th>\n",
       "      <td>7</td>\n",
       "      <td>16</td>\n",
       "      <td>9</td>\n",
       "      <td>18.879577</td>\n",
       "      <td>92.043045</td>\n",
       "      <td>7.813917</td>\n",
       "      <td>114.665951</td>\n",
       "      <td>orange</td>\n",
       "    </tr>\n",
       "    <tr>\n",
       "      <th>1604</th>\n",
       "      <td>20</td>\n",
       "      <td>7</td>\n",
       "      <td>9</td>\n",
       "      <td>29.477417</td>\n",
       "      <td>91.578029</td>\n",
       "      <td>7.129137</td>\n",
       "      <td>111.172750</td>\n",
       "      <td>orange</td>\n",
       "    </tr>\n",
       "  </tbody>\n",
       "</table>\n",
       "</div>"
      ],
      "text/plain": [
       "       N   P   K  temperature   humidity        ph    rainfall   label\n",
       "1600  22  30  12    15.781442  92.510777  6.354007  119.035002  orange\n",
       "1601  37   6  13    26.030973  91.508193  7.511755  101.284774  orange\n",
       "1602  27  13   6    13.360506  91.356082  7.335158  111.226688  orange\n",
       "1603   7  16   9    18.879577  92.043045  7.813917  114.665951  orange\n",
       "1604  20   7   9    29.477417  91.578029  7.129137  111.172750  orange"
      ]
     },
     "execution_count": 58,
     "metadata": {},
     "output_type": "execute_result"
    }
   ],
   "source": [
    "df[df['label'] == 'orange'].head()"
   ]
  },
  {
   "cell_type": "code",
   "execution_count": 80,
   "id": "b9cfb832",
   "metadata": {},
   "outputs": [],
   "source": [
    "prediction =clf_rfc.predict((np.array([[220,\n",
    "                                       13,\n",
    "                                       60,\n",
    "                                       90,\n",
    "                                       91,\n",
    "                                       90,\n",
    "                                       90]])))"
   ]
  },
  {
   "cell_type": "code",
   "execution_count": 81,
   "id": "98724bf6",
   "metadata": {},
   "outputs": [
    {
     "name": "stdout",
     "output_type": "stream",
     "text": [
      "The Suggested Crop for Given Climatic Condition is : ['papaya']\n"
     ]
    }
   ],
   "source": [
    "print(\"The Suggested Crop for Given Climatic Condition is :\", prediction)"
   ]
  },
  {
   "cell_type": "code",
   "execution_count": 66,
   "id": "fc9c331e",
   "metadata": {},
   "outputs": [
    {
     "data": {
      "text/plain": [
       "array(['rice'], dtype=object)"
      ]
     },
     "execution_count": 66,
     "metadata": {},
     "output_type": "execute_result"
    }
   ],
   "source": [
    "input = np.array([[90,42,43,20.879744,82.002744,6.502985,202.935536]])\n",
    "clf_rfc.predict(input)"
   ]
  },
  {
   "cell_type": "code",
   "execution_count": 47,
   "id": "78d8b2f9",
   "metadata": {},
   "outputs": [
    {
     "name": "stdout",
     "output_type": "stream",
     "text": [
      "Submission was successfully saved!\n"
     ]
    }
   ],
   "source": [
    "output.to_csv('Optimizing Agricultural Production Rutik.csv', index=False)\n",
    "print(\"Submission was successfully saved!\")"
   ]
  },
  {
   "cell_type": "code",
   "execution_count": null,
   "id": "a1a185de",
   "metadata": {},
   "outputs": [],
   "source": []
  }
 ],
 "metadata": {
  "kernelspec": {
   "display_name": "Python 3 (ipykernel)",
   "language": "python",
   "name": "python3"
  },
  "language_info": {
   "codemirror_mode": {
    "name": "ipython",
    "version": 3
   },
   "file_extension": ".py",
   "mimetype": "text/x-python",
   "name": "python",
   "nbconvert_exporter": "python",
   "pygments_lexer": "ipython3",
   "version": "3.9.12"
  }
 },
 "nbformat": 4,
 "nbformat_minor": 5
}
